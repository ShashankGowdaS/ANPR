{
 "cells": [
  {
   "cell_type": "markdown",
   "metadata": {},
   "source": [
    "# here we use pytesseract and opencv2\n"
   ]
  },
  {
   "cell_type": "code",
   "execution_count": 1,
   "metadata": {},
   "outputs": [],
   "source": [
    "import cv2\n",
    "import numpy as np\n",
    "import pytesseract"
   ]
  },
  {
   "cell_type": "code",
   "execution_count": 2,
   "metadata": {},
   "outputs": [],
   "source": [
    "pytesseract.pytesseract.tesseract_cmd=r'C:\\Program Files\\Tesseract-OCR\\tesseract.exe'\n",
    "\n",
    "cascade=cv2.CascadeClassifier(\"haarcascade_russian_plate_number.xml\")\n",
    "\n",
    "#states={\"AN\":\"Andaman and Nicobar\"}\n"
   ]
  },
  {
   "cell_type": "code",
   "execution_count": 3,
   "metadata": {},
   "outputs": [],
   "source": [
    "def extract_num(img_name):\n",
    "    global read\n",
    "    img=cv2.imread(img_name)\n",
    "    gray=cv2.cvtColor(img,cv2.COLOR_BGR2GRAY)\n",
    "    nplate=cascade.detectMultiScale(gray,1.1,4)\n",
    "    for (x,y,w,h) in nplate:\n",
    "        a,b=(int(0.02*img.shape[0]),int(0.025*img.shape[1]))\n",
    "        plate=img[y+a:y+h-a, x+b:x+w-b, :]\n",
    "        \n",
    "        #image Processing\n",
    "        kernel=np.ones((1,1), np.uint8)\n",
    "        plate=cv2.dilate(plate,kernel,iterations=1)\n",
    "        plate=cv2.erode(plate,kernel,iterations=1)\n",
    "        plate_gray=cv2.cvtColor(plate,cv2.COLOR_BGR2GRAY)\n",
    "        (thresh,plate)=cv2.threshold(plate_gray,127,255,cv2.THRESH_BINARY + cv2.THRESH_OTSU)\n",
    "        \n",
    "        #recognition through OCR \n",
    "        read=pytesseract.image_to_string(plate)\n",
    "        print(read)\n",
    "        read=''.join(e for e in read if e.isalnum())\n",
    "        #stat=read[0:2]\n",
    "        '''try:\n",
    "            print('Car Belongs to ',states[stat])\n",
    "        except:\n",
    "            print('State not recognized')\n",
    "            \n",
    "        print(read) \n",
    "        '''\n",
    "        \n",
    "        \n",
    "        cv2.rectangle(img,(x,y),(x+w,y+h),(51,51,255),2)\n",
    "        cv2.rectangle(img,(x,y-40),(x+w,y),(51,51,255),-1)\n",
    "        cv2.putText(img,read,(x,y-10),cv2.FONT_HERSHEY_SIMPLEX,fontScale=1,color=(0,255,0))\n",
    "        cv2.imshow(\"Plate\",plate)\n",
    "        \n",
    "        cv2.imshow(\"Result:\",img)\n",
    "        cv2.imwrite('result.jpg',img)\n",
    "        cv2.waitKey(0)\n",
    "        cv2.destroyAllWindows()"
   ]
  },
  {
   "cell_type": "code",
   "execution_count": 7,
   "metadata": {},
   "outputs": [
    {
     "name": "stdout",
     "output_type": "stream",
     "text": [
      "HK 20 EE 7598\n",
      "\f",
      "\n"
     ]
    }
   ],
   "source": [
    "extract_num('img2.jpeg')"
   ]
  },
  {
   "cell_type": "code",
   "execution_count": null,
   "metadata": {},
   "outputs": [],
   "source": []
  }
 ],
 "metadata": {
  "kernelspec": {
   "display_name": "Python 3",
   "language": "python",
   "name": "python3"
  },
  "language_info": {
   "codemirror_mode": {
    "name": "ipython",
    "version": 3
   },
   "file_extension": ".py",
   "mimetype": "text/x-python",
   "name": "python",
   "nbconvert_exporter": "python",
   "pygments_lexer": "ipython3",
   "version": "3.8.6rc1"
  }
 },
 "nbformat": 4,
 "nbformat_minor": 4
}
